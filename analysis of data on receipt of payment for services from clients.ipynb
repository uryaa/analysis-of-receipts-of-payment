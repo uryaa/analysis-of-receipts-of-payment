{
 "cells": [
  {
   "cell_type": "code",
   "execution_count": 85,
   "id": "ab4d1d21",
   "metadata": {},
   "outputs": [],
   "source": [
    "import pandas as pd\n",
    "import numpy as np\n",
    "import seaborn as sns\n",
    "import matplotlib.pyplot as plt\n",
    "import warnings\n",
    "import calendar\n",
    "import datetime"
   ]
  },
  {
   "cell_type": "code",
   "execution_count": 3,
   "id": "2217ad1c",
   "metadata": {},
   "outputs": [],
   "source": [
    "warnings.filterwarnings(\"ignore\")"
   ]
  },
  {
   "cell_type": "code",
   "execution_count": 161,
   "id": "97bad04c",
   "metadata": {},
   "outputs": [],
   "source": [
    "df = pd.read_excel('data.xlsx')"
   ]
  },
  {
   "cell_type": "code",
   "execution_count": 162,
   "id": "7da12d8b",
   "metadata": {},
   "outputs": [],
   "source": [
    "df = df.drop(columns='Unnamed: 5').drop(labels = [0,1], axis = 0)"
   ]
  },
  {
   "cell_type": "code",
   "execution_count": 163,
   "id": "1d7b67bf",
   "metadata": {},
   "outputs": [],
   "source": [
    "df.reset_index(inplace=True, drop=True)"
   ]
  },
  {
   "cell_type": "code",
   "execution_count": 164,
   "id": "a4233410",
   "metadata": {},
   "outputs": [
    {
     "data": {
      "text/html": [
       "<div>\n",
       "<style scoped>\n",
       "    .dataframe tbody tr th:only-of-type {\n",
       "        vertical-align: middle;\n",
       "    }\n",
       "\n",
       "    .dataframe tbody tr th {\n",
       "        vertical-align: top;\n",
       "    }\n",
       "\n",
       "    .dataframe thead th {\n",
       "        text-align: right;\n",
       "    }\n",
       "</style>\n",
       "<table border=\"1\" class=\"dataframe\">\n",
       "  <thead>\n",
       "    <tr style=\"text-align: right;\">\n",
       "      <th></th>\n",
       "      <th>client_id</th>\n",
       "      <th>sum</th>\n",
       "      <th>status</th>\n",
       "      <th>sale</th>\n",
       "      <th>new/current</th>\n",
       "      <th>document</th>\n",
       "      <th>receiving_date</th>\n",
       "    </tr>\n",
       "  </thead>\n",
       "  <tbody>\n",
       "    <tr>\n",
       "      <th>0</th>\n",
       "      <td>14.0</td>\n",
       "      <td>5452.7</td>\n",
       "      <td>ОПЛАЧЕНО</td>\n",
       "      <td>Петрова</td>\n",
       "      <td>новая</td>\n",
       "      <td>оригинал</td>\n",
       "      <td>2021-07-26 00:00:00</td>\n",
       "    </tr>\n",
       "    <tr>\n",
       "      <th>1</th>\n",
       "      <td>15.0</td>\n",
       "      <td>13991.7</td>\n",
       "      <td>ОПЛАЧЕНО</td>\n",
       "      <td>Иванов</td>\n",
       "      <td>текущая</td>\n",
       "      <td>оригинал</td>\n",
       "      <td>2021-06-08 00:00:00</td>\n",
       "    </tr>\n",
       "    <tr>\n",
       "      <th>2</th>\n",
       "      <td>16.0</td>\n",
       "      <td>719.7</td>\n",
       "      <td>ОПЛАЧЕНО</td>\n",
       "      <td>Иванов</td>\n",
       "      <td>текущая</td>\n",
       "      <td>оригинал</td>\n",
       "      <td>2021-06-08 00:00:00</td>\n",
       "    </tr>\n",
       "    <tr>\n",
       "      <th>3</th>\n",
       "      <td>18.0</td>\n",
       "      <td>4253.7</td>\n",
       "      <td>ОПЛАЧЕНО</td>\n",
       "      <td>Иванов</td>\n",
       "      <td>текущая</td>\n",
       "      <td>оригинал</td>\n",
       "      <td>2021-07-07 00:00:00</td>\n",
       "    </tr>\n",
       "    <tr>\n",
       "      <th>4</th>\n",
       "      <td>20.0</td>\n",
       "      <td>5796.7</td>\n",
       "      <td>ОПЛАЧЕНО</td>\n",
       "      <td>Кузнецова</td>\n",
       "      <td>текущая</td>\n",
       "      <td>оригинал</td>\n",
       "      <td>2021-07-15 00:00:00</td>\n",
       "    </tr>\n",
       "    <tr>\n",
       "      <th>5</th>\n",
       "      <td>21.0</td>\n",
       "      <td>3613.7</td>\n",
       "      <td>ОПЛАЧЕНО</td>\n",
       "      <td>Кузнецова</td>\n",
       "      <td>текущая</td>\n",
       "      <td>оригинал</td>\n",
       "      <td>2021-10-13 00:00:00</td>\n",
       "    </tr>\n",
       "    <tr>\n",
       "      <th>6</th>\n",
       "      <td>23.0</td>\n",
       "      <td>8511.7</td>\n",
       "      <td>ОПЛАЧЕНО</td>\n",
       "      <td>Андреев</td>\n",
       "      <td>текущая</td>\n",
       "      <td>оригинал</td>\n",
       "      <td>2021-06-08 00:00:00</td>\n",
       "    </tr>\n",
       "    <tr>\n",
       "      <th>7</th>\n",
       "      <td>24.0</td>\n",
       "      <td>16347.7</td>\n",
       "      <td>ОПЛАЧЕНО</td>\n",
       "      <td>Андреев</td>\n",
       "      <td>новая</td>\n",
       "      <td>оригинал</td>\n",
       "      <td>2021-06-23 00:00:00</td>\n",
       "    </tr>\n",
       "    <tr>\n",
       "      <th>8</th>\n",
       "      <td>28.0</td>\n",
       "      <td>10537.7</td>\n",
       "      <td>ОПЛАЧЕНО</td>\n",
       "      <td>Андреев</td>\n",
       "      <td>текущая</td>\n",
       "      <td>оригинал</td>\n",
       "      <td>2021-06-16 00:00:00</td>\n",
       "    </tr>\n",
       "    <tr>\n",
       "      <th>9</th>\n",
       "      <td>30.0</td>\n",
       "      <td>3833.7</td>\n",
       "      <td>ОПЛАЧЕНО</td>\n",
       "      <td>Филимонова</td>\n",
       "      <td>текущая</td>\n",
       "      <td>оригинал</td>\n",
       "      <td>2021-06-21 00:00:00</td>\n",
       "    </tr>\n",
       "  </tbody>\n",
       "</table>\n",
       "</div>"
      ],
      "text/plain": [
       "   client_id      sum    status        sale new/current  document  \\\n",
       "0       14.0   5452.7  ОПЛАЧЕНО     Петрова       новая  оригинал   \n",
       "1       15.0  13991.7  ОПЛАЧЕНО      Иванов     текущая  оригинал   \n",
       "2       16.0    719.7  ОПЛАЧЕНО      Иванов     текущая  оригинал   \n",
       "3       18.0   4253.7  ОПЛАЧЕНО      Иванов     текущая  оригинал   \n",
       "4       20.0   5796.7  ОПЛАЧЕНО   Кузнецова     текущая  оригинал   \n",
       "5       21.0   3613.7  ОПЛАЧЕНО   Кузнецова     текущая  оригинал   \n",
       "6       23.0   8511.7  ОПЛАЧЕНО     Андреев     текущая  оригинал   \n",
       "7       24.0  16347.7  ОПЛАЧЕНО     Андреев       новая  оригинал   \n",
       "8       28.0  10537.7  ОПЛАЧЕНО     Андреев     текущая  оригинал   \n",
       "9       30.0   3833.7  ОПЛАЧЕНО  Филимонова     текущая  оригинал   \n",
       "\n",
       "        receiving_date  \n",
       "0  2021-07-26 00:00:00  \n",
       "1  2021-06-08 00:00:00  \n",
       "2  2021-06-08 00:00:00  \n",
       "3  2021-07-07 00:00:00  \n",
       "4  2021-07-15 00:00:00  \n",
       "5  2021-10-13 00:00:00  \n",
       "6  2021-06-08 00:00:00  \n",
       "7  2021-06-23 00:00:00  \n",
       "8  2021-06-16 00:00:00  \n",
       "9  2021-06-21 00:00:00  "
      ]
     },
     "execution_count": 164,
     "metadata": {},
     "output_type": "execute_result"
    }
   ],
   "source": [
    "df.head(10)"
   ]
  },
  {
   "cell_type": "code",
   "execution_count": 165,
   "id": "95988681",
   "metadata": {},
   "outputs": [
    {
     "name": "stdout",
     "output_type": "stream",
     "text": [
      "<class 'pandas.core.frame.DataFrame'>\n",
      "RangeIndex: 728 entries, 0 to 727\n",
      "Data columns (total 7 columns):\n",
      " #   Column          Non-Null Count  Dtype  \n",
      "---  ------          --------------  -----  \n",
      " 0   client_id       723 non-null    float64\n",
      " 1   sum             723 non-null    float64\n",
      " 2   status          728 non-null    object \n",
      " 3   sale            723 non-null    object \n",
      " 4   new/current     723 non-null    object \n",
      " 5   document        708 non-null    object \n",
      " 6   receiving_date  606 non-null    object \n",
      "dtypes: float64(2), object(5)\n",
      "memory usage: 39.9+ KB\n"
     ]
    }
   ],
   "source": [
    "df.info()"
   ]
  },
  {
   "cell_type": "code",
   "execution_count": 166,
   "id": "bbcb5ea9",
   "metadata": {},
   "outputs": [],
   "source": [
    "df[\"new/current\"] = df[\"new/current\"].astype(\"category\")\n",
    "df[\"document\"] = df[\"document\"].astype(\"category\")"
   ]
  },
  {
   "cell_type": "code",
   "execution_count": 167,
   "id": "34605b9a",
   "metadata": {},
   "outputs": [],
   "source": [
    "df['receiving_date'] = pd.to_datetime(df['receiving_date'], format='%Y/%m/%d %H:%M:%S')"
   ]
  },
  {
   "cell_type": "code",
   "execution_count": 168,
   "id": "588c667b",
   "metadata": {},
   "outputs": [],
   "source": [
    "df = df.replace('НЕТ', np.nan)"
   ]
  },
  {
   "cell_type": "code",
   "execution_count": 169,
   "id": "6677427a",
   "metadata": {},
   "outputs": [],
   "source": [
    "df = df.drop_duplicates()"
   ]
  },
  {
   "cell_type": "code",
   "execution_count": 170,
   "id": "19c10b57",
   "metadata": {},
   "outputs": [],
   "source": [
    "# Вычислите общую выручку за июль 2021 по тем сделкам, приход денежных средств которых не просрочен."
   ]
  },
  {
   "cell_type": "code",
   "execution_count": 171,
   "id": "b70d6750",
   "metadata": {},
   "outputs": [],
   "source": [
    "july_2021 = df[(df['receiving_date'].dt.month == 7) & (df['receiving_date'].dt.year == 2021)] "
   ]
  },
  {
   "cell_type": "code",
   "execution_count": 172,
   "id": "0cb24858",
   "metadata": {},
   "outputs": [
    {
     "data": {
      "text/html": [
       "<div>\n",
       "<style scoped>\n",
       "    .dataframe tbody tr th:only-of-type {\n",
       "        vertical-align: middle;\n",
       "    }\n",
       "\n",
       "    .dataframe tbody tr th {\n",
       "        vertical-align: top;\n",
       "    }\n",
       "\n",
       "    .dataframe thead th {\n",
       "        text-align: right;\n",
       "    }\n",
       "</style>\n",
       "<table border=\"1\" class=\"dataframe\">\n",
       "  <thead>\n",
       "    <tr style=\"text-align: right;\">\n",
       "      <th></th>\n",
       "      <th>sum</th>\n",
       "    </tr>\n",
       "    <tr>\n",
       "      <th>status</th>\n",
       "      <th></th>\n",
       "    </tr>\n",
       "  </thead>\n",
       "  <tbody>\n",
       "    <tr>\n",
       "      <th>ОПЛАЧЕНО</th>\n",
       "      <td>729541.14</td>\n",
       "    </tr>\n",
       "  </tbody>\n",
       "</table>\n",
       "</div>"
      ],
      "text/plain": [
       "                sum\n",
       "status             \n",
       "ОПЛАЧЕНО  729541.14"
      ]
     },
     "execution_count": 172,
     "metadata": {},
     "output_type": "execute_result"
    }
   ],
   "source": [
    "july_2021.groupby(['status']).agg({'sum': 'sum'}).drop('ПРОСРОЧЕНО')"
   ]
  },
  {
   "cell_type": "code",
   "execution_count": 173,
   "id": "a00eb159",
   "metadata": {},
   "outputs": [],
   "source": [
    "# Как изменялась выручка компании за рассматриваемый период? Проиллюстрируйте графиком."
   ]
  },
  {
   "cell_type": "code",
   "execution_count": 174,
   "id": "d1aa107b",
   "metadata": {},
   "outputs": [],
   "source": [
    "monthly_revenue = df.groupby([df['receiving_date'].dt.month]).agg({'sum': 'sum'}).reset_index()"
   ]
  },
  {
   "cell_type": "code",
   "execution_count": 175,
   "id": "b8e7054f",
   "metadata": {
    "scrolled": true
   },
   "outputs": [],
   "source": [
    "monthly_revenue['receiving_date'] = monthly_revenue['receiving_date'].apply(lambda x: calendar.month_abbr[int(x)])"
   ]
  },
  {
   "cell_type": "code",
   "execution_count": 176,
   "id": "9c42211b",
   "metadata": {},
   "outputs": [
    {
     "data": {
      "image/png": "[encoded data removed]",
      "text/plain": [
       "<Figure size 800x400 with 1 Axes>"
      ]
     },
     "metadata": {},
     "output_type": "display_data"
    }
   ],
   "source": [
    "plt.figure(figsize=(8, 4))\n",
    "sns.lineplot(x='receiving_date', y='sum', data=monthly_revenue, marker='o')\n",
    "plt.xticks(rotation=45)\n",
    "plt.title('Monthly Revenue Over 2021')\n",
    "plt.xlabel('Month')\n",
    "plt.ylabel('Revenue')\n",
    "plt.grid(True)\n",
    "plt.show()"
   ]
  },
  {
   "cell_type": "code",
   "execution_count": 177,
   "id": "05644741",
   "metadata": {},
   "outputs": [],
   "source": [
    "# Кто из менеджеров привлек для компании больше всего денежных средств в сентябре 2021?"
   ]
  },
  {
   "cell_type": "code",
   "execution_count": 178,
   "id": "7d78d792",
   "metadata": {},
   "outputs": [],
   "source": [
    "sep_2021 = df[(df['receiving_date'].dt.month == 9) & (df['receiving_date'].dt.year == 2021)] "
   ]
  },
  {
   "cell_type": "code",
   "execution_count": 179,
   "id": "5eff15f8",
   "metadata": {},
   "outputs": [
    {
     "data": {
      "text/html": [
       "<div>\n",
       "<style scoped>\n",
       "    .dataframe tbody tr th:only-of-type {\n",
       "        vertical-align: middle;\n",
       "    }\n",
       "\n",
       "    .dataframe tbody tr th {\n",
       "        vertical-align: top;\n",
       "    }\n",
       "\n",
       "    .dataframe thead th {\n",
       "        text-align: right;\n",
       "    }\n",
       "</style>\n",
       "<table border=\"1\" class=\"dataframe\">\n",
       "  <thead>\n",
       "    <tr style=\"text-align: right;\">\n",
       "      <th></th>\n",
       "      <th>sum</th>\n",
       "    </tr>\n",
       "    <tr>\n",
       "      <th>sale</th>\n",
       "      <th></th>\n",
       "    </tr>\n",
       "  </thead>\n",
       "  <tbody>\n",
       "    <tr>\n",
       "      <th>Петрова</th>\n",
       "      <td>198702.32</td>\n",
       "    </tr>\n",
       "  </tbody>\n",
       "</table>\n",
       "</div>"
      ],
      "text/plain": [
       "               sum\n",
       "sale              \n",
       "Петрова  198702.32"
      ]
     },
     "execution_count": 179,
     "metadata": {},
     "output_type": "execute_result"
    }
   ],
   "source": [
    "sep_2021.groupby(['sale']).agg({'sum': 'sum'}).sort_values(by='sum', ascending=False).head(1)"
   ]
  },
  {
   "cell_type": "code",
   "execution_count": 180,
   "id": "17d60978",
   "metadata": {},
   "outputs": [],
   "source": [
    "# Какой тип сделок (новая/текущая) был преобладающим в октябре 2021?"
   ]
  },
  {
   "cell_type": "code",
   "execution_count": 181,
   "id": "5e262f21",
   "metadata": {},
   "outputs": [],
   "source": [
    "oct_2021 = df[(df['receiving_date'].dt.month == 10) & (df['receiving_date'].dt.year == 2021)]"
   ]
  },
  {
   "cell_type": "code",
   "execution_count": 182,
   "id": "bd275569",
   "metadata": {},
   "outputs": [
    {
     "data": {
      "text/html": [
       "<div>\n",
       "<style scoped>\n",
       "    .dataframe tbody tr th:only-of-type {\n",
       "        vertical-align: middle;\n",
       "    }\n",
       "\n",
       "    .dataframe tbody tr th {\n",
       "        vertical-align: top;\n",
       "    }\n",
       "\n",
       "    .dataframe thead th {\n",
       "        text-align: right;\n",
       "    }\n",
       "</style>\n",
       "<table border=\"1\" class=\"dataframe\">\n",
       "  <thead>\n",
       "    <tr style=\"text-align: right;\">\n",
       "      <th></th>\n",
       "      <th>number of deals</th>\n",
       "    </tr>\n",
       "    <tr>\n",
       "      <th>new/current</th>\n",
       "      <th></th>\n",
       "    </tr>\n",
       "  </thead>\n",
       "  <tbody>\n",
       "    <tr>\n",
       "      <th>новая</th>\n",
       "      <td>17</td>\n",
       "    </tr>\n",
       "    <tr>\n",
       "      <th>текущая</th>\n",
       "      <td>99</td>\n",
       "    </tr>\n",
       "  </tbody>\n",
       "</table>\n",
       "</div>"
      ],
      "text/plain": [
       "             number of deals\n",
       "new/current                 \n",
       "новая                     17\n",
       "текущая                   99"
      ]
     },
     "execution_count": 182,
     "metadata": {},
     "output_type": "execute_result"
    }
   ],
   "source": [
    "oct_2021.groupby(['new/current']).agg({'new/current': 'count'}).rename(columns={'new/current':'number of deals'})"
   ]
  },
  {
   "cell_type": "code",
   "execution_count": 183,
   "id": "66777051",
   "metadata": {},
   "outputs": [],
   "source": [
    "# Сколько оригиналов договора по майским сделкам было получено в июне 2021?"
   ]
  },
  {
   "cell_type": "code",
   "execution_count": 184,
   "id": "1546e10f",
   "metadata": {},
   "outputs": [],
   "source": [
    "june_2021 = df[(df['receiving_date'].dt.month == 6) & (df['receiving_date'].dt.year == 2021)]"
   ]
  },
  {
   "cell_type": "code",
   "execution_count": 185,
   "id": "1641561c",
   "metadata": {},
   "outputs": [
    {
     "data": {
      "text/html": [
       "<div>\n",
       "<style scoped>\n",
       "    .dataframe tbody tr th:only-of-type {\n",
       "        vertical-align: middle;\n",
       "    }\n",
       "\n",
       "    .dataframe tbody tr th {\n",
       "        vertical-align: top;\n",
       "    }\n",
       "\n",
       "    .dataframe thead th {\n",
       "        text-align: right;\n",
       "    }\n",
       "</style>\n",
       "<table border=\"1\" class=\"dataframe\">\n",
       "  <thead>\n",
       "    <tr style=\"text-align: right;\">\n",
       "      <th></th>\n",
       "      <th>number of deals</th>\n",
       "    </tr>\n",
       "    <tr>\n",
       "      <th>document</th>\n",
       "      <th></th>\n",
       "    </tr>\n",
       "  </thead>\n",
       "  <tbody>\n",
       "    <tr>\n",
       "      <th>оригинал</th>\n",
       "      <td>111</td>\n",
       "    </tr>\n",
       "  </tbody>\n",
       "</table>\n",
       "</div>"
      ],
      "text/plain": [
       "          number of deals\n",
       "document                 \n",
       "оригинал              111"
      ]
     },
     "execution_count": 185,
     "metadata": {},
     "output_type": "execute_result"
    }
   ],
   "source": [
    "oct_2021.groupby(['document']).agg({'document': 'count'}).rename(columns={'document':'number of deals'})"
   ]
  },
  {
   "cell_type": "code",
   "execution_count": null,
   "id": "1273f9f2",
   "metadata": {},
   "outputs": [],
   "source": [
    "'''\n",
    "За каждую заключенную сделку менеджер получает бонус, который рассчитывается следующим образом.\n",
    "1)  За новые сделки менеджер получает 7 % от суммы, при условии, что статус оплаты «ОПЛАЧЕНО», \n",
    "а также имеется оригинал подписанного договора с клиентом (в рассматриваемом месяце).\n",
    "2)  За текущие сделки менеджер получает 5 % от суммы, если она больше 10 тыс., и 3 % от суммы, если меньше. \n",
    "При этом статус оплаты может быть любым, кроме «ПРОСРОЧЕНО», а также необходимо наличие \n",
    "оригинала подписанного договора с клиентом (в рассматриваемом месяце).\n",
    "Бонусы по сделкам, оригиналы для которых приходят позже рассматриваемого месяца, \n",
    "считаются остатком на следующий период, который выплачивается по мере прихода оригиналов. \n",
    "Вычислите остаток каждого из менеджеров на 01.07.2021.\n",
    "'''"
   ]
  },
  {
   "cell_type": "code",
   "execution_count": 204,
   "id": "3fcef583",
   "metadata": {},
   "outputs": [],
   "source": [
    "def bonus_balance(df, date):\n",
    "    my_date = datetime.datetime.strptime(date, \"%d.%m.%Y\")\n",
    "    manager_bonus = {}\n",
    "    \n",
    "    df_filtred = df[df['receiving_date'] <= my_date]\n",
    "    \n",
    "    for index, row in df_filtred.iterrows():\n",
    "        manager = row['sale']\n",
    "        amount = row['sum']\n",
    "        deal_type = row['new/current']\n",
    "        \n",
    "        if manager not in manager_bonus:\n",
    "            manager_bonus[manager] = 0.0\n",
    "        \n",
    "        if row['document'] == 'оригинал':\n",
    "            if row['status'] == 'ОПЛАЧЕНО' and deal_type == 'новая':\n",
    "                manager_bonus[manager] += amount * 0.07\n",
    "            elif row['status'] != \"ПРОСРОЧЕНО\" and deal_type == 'текущая':\n",
    "                if amount > 10000:\n",
    "                    manager_bonus[manager] += amount * 0.05\n",
    "                else:\n",
    "                    manager_bonus[manager] += amount * 0.03\n",
    "    \n",
    "    return manager_bonus"
   ]
  },
  {
   "cell_type": "code",
   "execution_count": 205,
   "id": "3bff89aa",
   "metadata": {},
   "outputs": [
    {
     "name": "stdout",
     "output_type": "stream",
     "text": [
      "Иванов: 2716.50\n",
      "Андреев: 4701.75\n",
      "Филимонова: 409.68\n",
      "Петрова: 7028.80\n",
      "Смирнов: 4219.52\n",
      "Селиванов: 353.32\n",
      "Кузнецова: 2604.67\n",
      "Васильев: 339.23\n"
     ]
    }
   ],
   "source": [
    "result = bonus_balance(df, \"01.07.2021\")\n",
    "for manager, bonus in result.items():\n",
    "    print(f\"{manager}: {bonus:.2f}\")"
   ]
  }
 ],
 "metadata": {
  "kernelspec": {
   "display_name": "Python 3 (ipykernel)",
   "language": "python",
   "name": "python3"
  },
  "language_info": {
   "codemirror_mode": {
    "name": "ipython",
    "version": 3
   },
   "file_extension": ".py",
   "mimetype": "text/x-python",
   "name": "python",
   "nbconvert_exporter": "python",
   "pygments_lexer": "ipython3",
   "version": "3.11.4"
  }
 },
 "nbformat": 4,
 "nbformat_minor": 5
}
